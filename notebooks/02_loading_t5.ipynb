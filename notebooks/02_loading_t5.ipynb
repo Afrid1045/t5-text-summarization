{
 "cells": [
  {
   "cell_type": "markdown",
   "metadata": {},
   "source": [
    "# Text Summarization with T5\n",
    "## Introduction\n",
    "This notebook demonstrates text summarization using Google's T5 model. \n",
    "T5 is a pre-trained sequence-to-sequence model that treats NLP tasks as text-to-text generation.\n",
    "\n",
    "## Steps:\n",
    "1. Load the T5 model and tokenizer.\n",
    "2. Tokenize input text.\n",
    "3. Generate a summary using `model.generate()`.\n",
    "4. Experiment with different settings for improved results.\n"
   ]
  },
  {
   "cell_type": "code",
   "execution_count": 1,
   "metadata": {},
   "outputs": [],
   "source": [
    "import torch\n",
    "from transformers import T5Tokenizer, T5ForConditionalGeneration"
   ]
  },
  {
   "cell_type": "markdown",
   "metadata": {},
   "source": [
    "## Step 1: Load T5 Model and Tokenizer\n",
    "We first load the pre-trained T5-small model and its tokenizer.\n"
   ]
  },
  {
   "cell_type": "code",
   "execution_count": 2,
   "metadata": {},
   "outputs": [
    {
     "data": {
      "application/vnd.jupyter.widget-view+json": {
       "model_id": "106fa35737a0410cb0d909870d8974fa",
       "version_major": 2,
       "version_minor": 0
      },
      "text/plain": [
       "tokenizer_config.json:   0%|          | 0.00/2.32k [00:00<?, ?B/s]"
      ]
     },
     "metadata": {},
     "output_type": "display_data"
    },
    {
     "data": {
      "application/vnd.jupyter.widget-view+json": {
       "model_id": "df93372ad0a64800a37bbf82c6551fed",
       "version_major": 2,
       "version_minor": 0
      },
      "text/plain": [
       "spiece.model:   0%|          | 0.00/792k [00:00<?, ?B/s]"
      ]
     },
     "metadata": {},
     "output_type": "display_data"
    },
    {
     "data": {
      "application/vnd.jupyter.widget-view+json": {
       "model_id": "a8a6cd33a170435d825589eb99d0ccef",
       "version_major": 2,
       "version_minor": 0
      },
      "text/plain": [
       "tokenizer.json:   0%|          | 0.00/1.39M [00:00<?, ?B/s]"
      ]
     },
     "metadata": {},
     "output_type": "display_data"
    },
    {
     "name": "stderr",
     "output_type": "stream",
     "text": [
      "You are using the default legacy behaviour of the <class 'transformers.models.t5.tokenization_t5.T5Tokenizer'>. This is expected, and simply means that the `legacy` (previous) behavior will be used so nothing changes for you. If you want to use the new behaviour, set `legacy=False`. This should only be set if you understand what it means, and thoroughly read the reason why this was added as explained in https://github.com/huggingface/transformers/pull/24565\n"
     ]
    },
    {
     "data": {
      "application/vnd.jupyter.widget-view+json": {
       "model_id": "55c8af4585c349cfb2d23f416b76249c",
       "version_major": 2,
       "version_minor": 0
      },
      "text/plain": [
       "config.json:   0%|          | 0.00/1.21k [00:00<?, ?B/s]"
      ]
     },
     "metadata": {},
     "output_type": "display_data"
    },
    {
     "data": {
      "application/vnd.jupyter.widget-view+json": {
       "model_id": "0a0cff89d1b44d46bfe12aa945efa001",
       "version_major": 2,
       "version_minor": 0
      },
      "text/plain": [
       "model.safetensors:   0%|          | 0.00/242M [00:00<?, ?B/s]"
      ]
     },
     "metadata": {},
     "output_type": "display_data"
    },
    {
     "data": {
      "application/vnd.jupyter.widget-view+json": {
       "model_id": "eabf098446eb4e5cbea6598f559daeb9",
       "version_major": 2,
       "version_minor": 0
      },
      "text/plain": [
       "generation_config.json:   0%|          | 0.00/147 [00:00<?, ?B/s]"
      ]
     },
     "metadata": {},
     "output_type": "display_data"
    },
    {
     "name": "stdout",
     "output_type": "stream",
     "text": [
      "Model 't5-small' loaded successfully.\n",
      "Running on: cpu\n"
     ]
    }
   ],
   "source": [
    "# Load the tokenizer and model\n",
    "model_name = \"t5-small\"\n",
    "tokenizer = T5Tokenizer.from_pretrained(model_name)\n",
    "model = T5ForConditionalGeneration.from_pretrained(model_name)\n",
    "\n",
    "# Check if GPU is available\n",
    "device = torch.device(\"cuda\" if torch.cuda.is_available() else \"cpu\")\n",
    "model = model.to(device)\n",
    "\n",
    "# Print Model Info\n",
    "print(f\"Model '{model_name}' loaded successfully.\")\n",
    "print(f\"Running on: {device}\")\n"
   ]
  },
  {
   "cell_type": "markdown",
   "metadata": {},
   "source": [
    "## Step 2: Tokenizing Input Text\n",
    "The tokenizer converts text into token IDs, which are passed to the model.\n"
   ]
  },
  {
   "cell_type": "code",
   "execution_count": 14,
   "metadata": {},
   "outputs": [
    {
     "name": "stdout",
     "output_type": "stream",
     "text": [
      "{'input_ids': tensor([[21603,    10, 24714,  5869,  2825,  1433,    41,  9822,    61,    19,\n",
      "             3, 21139,  5238,  4388,     5,    94,     3,  7161, 11747,     6,\n",
      "          1172,     7,  3949,     6,    11,  3391,     7,  1357,    18,  5239,\n",
      "             5,  1029,  1044,    18,    26,  5927,    53,  2948,    12,  1035,\n",
      "          7028,     7,     6,  7833,    19,  9481,  2610,     8,   194,    62,\n",
      "           619,    11,   161,     5,   611,     6, 11398,  3315,  1918,   331,\n",
      "          4570,     6,   613, 27780,     6,    11, 14387,    16,  7833,  2250,\n",
      "            33,  4064,    13,  4912,  5054,     5,     1]]), 'attention_mask': tensor([[1, 1, 1, 1, 1, 1, 1, 1, 1, 1, 1, 1, 1, 1, 1, 1, 1, 1, 1, 1, 1, 1, 1, 1,\n",
      "         1, 1, 1, 1, 1, 1, 1, 1, 1, 1, 1, 1, 1, 1, 1, 1, 1, 1, 1, 1, 1, 1, 1, 1,\n",
      "         1, 1, 1, 1, 1, 1, 1, 1, 1, 1, 1, 1, 1, 1, 1, 1, 1, 1, 1, 1, 1, 1, 1, 1,\n",
      "         1, 1, 1, 1, 1]])}\n"
     ]
    }
   ],
   "source": [
    "input_text = \"\"\"summarize: \n",
    "Artificial Intelligence (AI) is transforming industries worldwide. It enables automation, improves efficiency, \n",
    "and enhances decision-making. From self-driving cars to medical diagnostics, AI is revolutionizing the way \n",
    "we live and work. However, ethical concerns regarding data privacy, job displacement, and bias in AI models \n",
    "are topics of ongoing debate.\"\"\"\n",
    "\n",
    "input_tokens = tokenizer(input_text, return_tensors=\"pt\")\n",
    "print(input_tokens)"
   ]
  },
  {
   "cell_type": "code",
   "execution_count": 15,
   "metadata": {},
   "outputs": [
    {
     "name": "stdout",
     "output_type": "stream",
     "text": [
      "summarize: Artificial Intelligence (AI) is transforming industries worldwide. It enables automation, improves efficiency, and enhances decision-making. From self-driving cars to medical diagnostics, AI is revolutionizing the way we live and work. However, ethical concerns regarding data privacy, job displacement, and bias in AI models are topics of ongoing debate.</s>\n"
     ]
    }
   ],
   "source": [
    "decoded_text = tokenizer.decode(input_tokens['input_ids'][0])\n",
    "\n",
    "print(decoded_text)"
   ]
  },
  {
   "cell_type": "code",
   "execution_count": 16,
   "metadata": {},
   "outputs": [
    {
     "name": "stdout",
     "output_type": "stream",
     "text": [
      "tensor([[    0,  7833,    19,     3, 21139,  5238,  4388,     3,     5,    34,\n",
      "             3,  7161, 11747,     6,  1172,     7,  3949,     6,    11,  3391,\n",
      "             7]])\n"
     ]
    }
   ],
   "source": [
    "output = model.generate(input_ids = input_tokens[\"input_ids\"], attention_mask=input_tokens[\"attention_mask\"])\n",
    "print(output)"
   ]
  },
  {
   "cell_type": "code",
   "execution_count": 17,
   "metadata": {},
   "outputs": [
    {
     "name": "stdout",
     "output_type": "stream",
     "text": [
      "<pad>AI is transforming industries worldwide. it enables automation, improves efficiency, and enhances\n"
     ]
    }
   ],
   "source": [
    "summarize = tokenizer.decode(output[0])\n",
    "print(summarize)"
   ]
  },
  {
   "cell_type": "markdown",
   "metadata": {},
   "source": [
    "## Step 3: Generating a Summary\n",
    "We use `model.generate()` to create a summarized version of the input text.\n"
   ]
  },
  {
   "cell_type": "code",
   "execution_count": 20,
   "metadata": {},
   "outputs": [
    {
     "name": "stdout",
     "output_type": "stream",
     "text": [
      "Generated Summary: artificial intelligence (AI) is transforming industries worldwide. it enables automation, improves efficiency, and enhances decision-making.\n"
     ]
    }
   ],
   "source": [
    "output_ids = model.generate(\n",
    "    input_ids=input_tokens[\"input_ids\"],\n",
    "    attention_mask=input_tokens[\"attention_mask\"],\n",
    "    max_length=30\n",
    ",  # Limit summary length\n",
    "    num_beams=4,  # Improves summary quality\n",
    "    early_stopping=True  # Stops when summary seems complete\n",
    ")\n",
    "\n",
    "# Convert token IDs back to text\n",
    "summary = tokenizer.decode(output_ids[0], skip_special_tokens=True)\n",
    "\n",
    "print(\"Generated Summary:\", summary)\n"
   ]
  },
  {
   "cell_type": "code",
   "execution_count": null,
   "metadata": {},
   "outputs": [],
   "source": []
  }
 ],
 "metadata": {
  "kernelspec": {
   "display_name": "Python 3",
   "language": "python",
   "name": "python3"
  },
  "language_info": {
   "codemirror_mode": {
    "name": "ipython",
    "version": 3
   },
   "file_extension": ".py",
   "mimetype": "text/x-python",
   "name": "python",
   "nbconvert_exporter": "python",
   "pygments_lexer": "ipython3",
   "version": "3.9.21"
  }
 },
 "nbformat": 4,
 "nbformat_minor": 2
}
